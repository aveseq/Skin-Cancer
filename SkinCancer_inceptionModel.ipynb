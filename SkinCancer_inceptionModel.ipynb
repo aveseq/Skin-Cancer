{
 "cells": [
  {
   "cell_type": "code",
   "execution_count": 1,
   "metadata": {},
   "outputs": [],
   "source": [
    "import tensorflow as tf\n",
    "#import keras\n",
    "from tensorflow import lite\n",
    "\n",
    "from tensorflow.keras.models import Sequential\n",
    "from tensorflow.keras.layers import Dense, Dropout, Flatten\n",
    "from tensorflow.keras.layers import Conv2D, MaxPooling2D,BatchNormalization\n",
    "from tensorflow.keras.models import load_model\n",
    "from tensorflow.keras.preprocessing.image import ImageDataGenerator\n",
    "from tensorflow.keras.optimizers import Adam\n",
    "from tensorflow.keras.layers import Activation,Dense, Dropout, Flatten, Conv2D, MaxPool2D,MaxPooling2D,GlobalAveragePooling2D, BatchNormalization\n",
    "from tensorflow.keras.callbacks import EarlyStopping, ReduceLROnPlateau, ModelCheckpoint\n",
    "from tensorflow.keras.applications import ResNet50,inception_v3,nasnet\n",
    "from sklearn.utils import class_weight\n",
    "import numpy as np\n",
    "import matplotlib.pyplot as plt\n",
    "import matplotlib\n",
    "import os\n",
    "from IPython.display import clear_output\n",
    "from tensorflow import keras\n",
    "import time\n",
    "import datetime\n",
    "\n",
    "import shutil\n",
    "\n",
    "from tensorflow.compat.v1 import ConfigProto,InteractiveSession\n",
    "\n",
    "config = ConfigProto()\n",
    "config.gpu_options.allow_growth = True\n",
    "session = InteractiveSession(config=config)\n"
   ]
  },
  {
   "cell_type": "code",
   "execution_count": null,
   "metadata": {},
   "outputs": [],
   "source": [
    "src = \"../input/nod/\"\n",
    "dst_dir = \"../input/datatree/train/nod\"\n",
    "\n",
    "x=0\n",
    "for file in os.listdir(src):\n",
    "    print(file)\n",
    "    shutil.copy(src+file,dst_dir)\n",
    "    x += 1\n",
    "    if(x ==196):\n",
    "        dst_dir = \"../input/datatree/test/nod\"\n",
    "        \n",
    "    elif(x ==int(len(path)*.8)):\n",
    "        dst_dir = \"../input/datatree/validation/nod\"\n",
    "        "
   ]
  },
  {
   "cell_type": "code",
   "execution_count": 4,
   "metadata": {},
   "outputs": [
    {
     "name": "stdout",
     "output_type": "stream",
     "text": [
      "number of train samples\n",
      "4023\n",
      "3895\n",
      "3855\n",
      "3610\n",
      "3990\n",
      "3490\n",
      "2810\n"
     ]
    }
   ],
   "source": [
    "print('number of train samples')\n",
    "print(len(os.listdir('./input/datatree/train/nv')))\n",
    "print(len(os.listdir('./input/datatree/train/mel')))\n",
    "print(len(os.listdir('./input/datatree/train/bkl')))\n",
    "print(len(os.listdir('./input/datatree/train/bcc')))\n",
    "print(len(os.listdir('./input/datatree/train/akiec')))\n",
    "print(len(os.listdir('./input/datatree/train/vasc')))\n",
    "print(len(os.listdir('./input/datatree/train/df')))"
   ]
  },
  {
   "cell_type": "code",
   "execution_count": null,
   "metadata": {},
   "outputs": [],
   "source": [
    "!pip uninstall scikit-learn"
   ]
  },
  {
   "cell_type": "code",
   "execution_count": 16,
   "metadata": {},
   "outputs": [
    {
     "name": "stdout",
     "output_type": "stream",
     "text": [
      "Requirement already satisfied: wheel in c:\\users\\admin\\anaconda3\\lib\\site-packages (0.38.4)\n",
      "Requirement already satisfied: setuptools in c:\\users\\admin\\anaconda3\\lib\\site-packages (68.0.0)\n",
      "Requirement already satisfied: pip in c:\\users\\admin\\anaconda3\\lib\\site-packages (23.2.1)\n",
      "Collecting pip\n",
      "  Obtaining dependency information for pip from https://files.pythonhosted.org/packages/8a/6a/19e9fe04fca059ccf770861c7d5721ab4c2aebc539889e97c7977528a53b/pip-24.0-py3-none-any.whl.metadata\n",
      "  Downloading pip-24.0-py3-none-any.whl.metadata (3.6 kB)\n",
      "Using cached pip-24.0-py3-none-any.whl (2.1 MB)\n"
     ]
    },
    {
     "name": "stderr",
     "output_type": "stream",
     "text": [
      "ERROR: To modify pip, please run the following command:\n",
      "C:\\Users\\admin\\anaconda3\\python.exe -m pip install --upgrade pip\n"
     ]
    },
    {
     "name": "stdout",
     "output_type": "stream",
     "text": [
      "Requirement already satisfied: Cython in c:\\users\\admin\\anaconda3\\lib\\site-packages (3.0.10)\n",
      "Collecting scikit-learn==0.21.3\n",
      "  Using cached scikit-learn-0.21.3.tar.gz (12.2 MB)\n",
      "  Preparing metadata (setup.py): started\n",
      "  Preparing metadata (setup.py): finished with status 'done'\n",
      "Requirement already satisfied: numpy>=1.11.0 in c:\\users\\admin\\anaconda3\\lib\\site-packages (from scikit-learn==0.21.3) (1.24.3)\n",
      "Requirement already satisfied: scipy>=0.17.0 in c:\\users\\admin\\anaconda3\\lib\\site-packages (from scikit-learn==0.21.3) (1.11.1)\n",
      "Requirement already satisfied: joblib>=0.11 in c:\\users\\admin\\anaconda3\\lib\\site-packages (from scikit-learn==0.21.3) (1.2.0)\n",
      "Building wheels for collected packages: scikit-learn\n",
      "  Building wheel for scikit-learn (setup.py): started\n",
      "  Building wheel for scikit-learn (setup.py): finished with status 'error'\n",
      "  Running setup.py clean for scikit-learn\n",
      "Failed to build scikit-learn\n"
     ]
    },
    {
     "name": "stderr",
     "output_type": "stream",
     "text": [
      "  error: subprocess-exited-with-error\n",
      "  \n",
      "  python setup.py bdist_wheel did not run successfully.\n",
      "  exit code: 1\n",
      "  \n",
      "  [54 lines of output]\n",
      "  C:\\Users\\admin\\AppData\\Local\\Temp\\pip-install-0p6d_0z0\\scikit-learn_3a10c0e590fe4db6827197ee87d37186\\setup.py:12: DeprecationWarning: pkg_resources is deprecated as an API. See https://setuptools.pypa.io/en/latest/pkg_resources.html\n",
      "    from pkg_resources import parse_version\n",
      "  Partial import of sklearn during the build process.\n",
      "  C:\\Users\\admin\\AppData\\Local\\Temp\\pip-install-0p6d_0z0\\scikit-learn_3a10c0e590fe4db6827197ee87d37186\\setup.py:122: DeprecationWarning:\n",
      "  \n",
      "    `numpy.distutils` is deprecated since NumPy 1.23.0, as a result\n",
      "    of the deprecation of `distutils` itself. It will be removed for\n",
      "    Python >= 3.12. For older Python versions it will remain present.\n",
      "    It is recommended to use `setuptools < 60.0` for those Python versions.\n",
      "    For more details, see:\n",
      "      https://numpy.org/devdocs/reference/distutils_status_migration.html\n",
      "  \n",
      "  \n",
      "    from numpy.distutils.command.build_ext import build_ext  # noqa\n",
      "  INFO: No module named 'numpy.distutils._msvccompiler' in numpy.distutils; trying from distutils\n",
      "  Traceback (most recent call last):\n",
      "    File \"<string>\", line 2, in <module>\n",
      "    File \"<pip-setuptools-caller>\", line 34, in <module>\n",
      "    File \"C:\\Users\\admin\\AppData\\Local\\Temp\\pip-install-0p6d_0z0\\scikit-learn_3a10c0e590fe4db6827197ee87d37186\\setup.py\", line 290, in <module>\n",
      "      setup_package()\n",
      "    File \"C:\\Users\\admin\\AppData\\Local\\Temp\\pip-install-0p6d_0z0\\scikit-learn_3a10c0e590fe4db6827197ee87d37186\\setup.py\", line 286, in setup_package\n",
      "      setup(**metadata)\n",
      "    File \"C:\\Users\\admin\\anaconda3\\Lib\\site-packages\\numpy\\distutils\\core.py\", line 135, in setup\n",
      "      config = configuration()\n",
      "               ^^^^^^^^^^^^^^^\n",
      "    File \"C:\\Users\\admin\\AppData\\Local\\Temp\\pip-install-0p6d_0z0\\scikit-learn_3a10c0e590fe4db6827197ee87d37186\\setup.py\", line 174, in configuration\n",
      "      config.add_subpackage('sklearn')\n",
      "    File \"C:\\Users\\admin\\anaconda3\\Lib\\site-packages\\numpy\\distutils\\misc_util.py\", line 1050, in add_subpackage\n",
      "      config_list = self.get_subpackage(subpackage_name, subpackage_path,\n",
      "                    ^^^^^^^^^^^^^^^^^^^^^^^^^^^^^^^^^^^^^^^^^^^^^^^^^^^^^\n",
      "    File \"C:\\Users\\admin\\anaconda3\\Lib\\site-packages\\numpy\\distutils\\misc_util.py\", line 1016, in get_subpackage\n",
      "      config = self._get_configuration_from_setup_py(\n",
      "               ^^^^^^^^^^^^^^^^^^^^^^^^^^^^^^^^^^^^^^\n",
      "    File \"C:\\Users\\admin\\anaconda3\\Lib\\site-packages\\numpy\\distutils\\misc_util.py\", line 958, in _get_configuration_from_setup_py\n",
      "      config = setup_module.configuration(*args)\n",
      "               ^^^^^^^^^^^^^^^^^^^^^^^^^^^^^^^^^\n",
      "    File \"C:\\Users\\admin\\AppData\\Local\\Temp\\pip-install-0p6d_0z0\\scikit-learn_3a10c0e590fe4db6827197ee87d37186\\sklearn\\setup.py\", line 76, in configuration\n",
      "      maybe_cythonize_extensions(top_path, config)\n",
      "    File \"C:\\Users\\admin\\AppData\\Local\\Temp\\pip-install-0p6d_0z0\\scikit-learn_3a10c0e590fe4db6827197ee87d37186\\sklearn\\_build_utils\\__init__.py\", line 42, in maybe_cythonize_extensions\n",
      "      with_openmp = check_openmp_support()\n",
      "                    ^^^^^^^^^^^^^^^^^^^^^^\n",
      "    File \"C:\\Users\\admin\\AppData\\Local\\Temp\\pip-install-0p6d_0z0\\scikit-learn_3a10c0e590fe4db6827197ee87d37186\\sklearn\\_build_utils\\openmp_helpers.py\", line 83, in check_openmp_support\n",
      "      ccompiler.compile(['test_openmp.c'], output_dir='objects',\n",
      "    File \"C:\\Users\\admin\\anaconda3\\Lib\\site-packages\\setuptools\\_distutils\\_msvccompiler.py\", line 343, in compile\n",
      "      self.initialize()\n",
      "    File \"C:\\Users\\admin\\anaconda3\\Lib\\site-packages\\setuptools\\_distutils\\_msvccompiler.py\", line 253, in initialize\n",
      "      vc_env = _get_vc_env(plat_spec)\n",
      "               ^^^^^^^^^^^^^^^^^^^^^^\n",
      "    File \"C:\\Users\\admin\\anaconda3\\Lib\\site-packages\\setuptools\\msvc.py\", line 214, in msvc14_get_vc_env\n",
      "      return _msvc14_get_vc_env(plat_spec)\n",
      "             ^^^^^^^^^^^^^^^^^^^^^^^^^^^^^\n",
      "    File \"C:\\Users\\admin\\anaconda3\\Lib\\site-packages\\setuptools\\msvc.py\", line 168, in _msvc14_get_vc_env\n",
      "      raise distutils.errors.DistutilsPlatformError(\n",
      "  distutils.errors.DistutilsPlatformError: Microsoft Visual C++ 14.0 or greater is required. Get it with \"Microsoft C++ Build Tools\": https://visualstudio.microsoft.com/visual-cpp-build-tools/\n",
      "  [end of output]\n",
      "  \n",
      "  note: This error originates from a subprocess, and is likely not a problem with pip.\n",
      "  ERROR: Failed building wheel for scikit-learn\n",
      "ERROR: Could not build wheels for scikit-learn, which is required to install pyproject.toml-based projects\n"
     ]
    }
   ],
   "source": [
    "!pip install scikit-learn==0.21.3"
   ]
  },
  {
   "cell_type": "code",
   "execution_count": 17,
   "metadata": {},
   "outputs": [
    {
     "name": "stdout",
     "output_type": "stream",
     "text": [
      "Found 25673 images belonging to 7 classes.\n"
     ]
    },
    {
     "ename": "TypeError",
     "evalue": "compute_class_weight() takes 1 positional argument but 3 were given",
     "output_type": "error",
     "traceback": [
      "\u001b[1;31m---------------------------------------------------------------------------\u001b[0m",
      "\u001b[1;31mTypeError\u001b[0m                                 Traceback (most recent call last)",
      "Cell \u001b[1;32mIn[17], line 13\u001b[0m\n\u001b[0;32m      4\u001b[0m x_train \u001b[38;5;241m=\u001b[39m train_datagen\u001b[38;5;241m.\u001b[39mflow_from_directory(\n\u001b[0;32m      5\u001b[0m     directory\u001b[38;5;241m=\u001b[39m\u001b[38;5;124mr\u001b[39m\u001b[38;5;124m'\u001b[39m\u001b[38;5;124m./input/datatree/train/\u001b[39m\u001b[38;5;124m'\u001b[39m,\n\u001b[0;32m      6\u001b[0m     batch_size\u001b[38;5;241m=\u001b[39m\u001b[38;5;241m32\u001b[39m,\n\u001b[1;32m   (...)\u001b[0m\n\u001b[0;32m     10\u001b[0m     seed\u001b[38;5;241m=\u001b[39m\u001b[38;5;241m42\u001b[39m\n\u001b[0;32m     11\u001b[0m )\n\u001b[0;32m     12\u001b[0m train_generator \u001b[38;5;241m=\u001b[39m x_train\n\u001b[1;32m---> 13\u001b[0m class_weights \u001b[38;5;241m=\u001b[39m compute_class_weight(\u001b[38;5;124m'\u001b[39m\u001b[38;5;124mbalanced\u001b[39m\u001b[38;5;124m'\u001b[39m,np\u001b[38;5;241m.\u001b[39munique(train_generator\u001b[38;5;241m.\u001b[39mclasses), train_generator\u001b[38;5;241m.\u001b[39mclasses)\n\u001b[0;32m     14\u001b[0m class_weights \u001b[38;5;241m=\u001b[39m \u001b[38;5;28mdict\u001b[39m(\u001b[38;5;28menumerate\u001b[39m(class_weights))\n\u001b[0;32m     15\u001b[0m \u001b[38;5;28mprint\u001b[39m(\u001b[38;5;124m\"\u001b[39m\u001b[38;5;124mtrain_generator class_weights =\u001b[39m\u001b[38;5;124m\"\u001b[39m,  class_weights)\n",
      "\u001b[1;31mTypeError\u001b[0m: compute_class_weight() takes 1 positional argument but 3 were given"
     ]
    }
   ],
   "source": [
    "from sklearn.utils.class_weight import compute_class_weight\n",
    "train_datagen = ImageDataGenerator(rescale=1./255)\n",
    "\n",
    "x_train = train_datagen.flow_from_directory(\n",
    "    directory=r'./input/datatree/train/',\n",
    "    batch_size=32,\n",
    "    target_size=(224,224),\n",
    "    class_mode=\"categorical\",\n",
    "    shuffle=True,\n",
    "    seed=42\n",
    ")\n",
    "train_generator = x_train\n",
    "class_weights = compute_class_weight('balanced',np.unique(train_generator.classes), train_generator.classes)\n",
    "class_weights = dict(enumerate(class_weights))\n",
    "print(\"train_generator class_weights =\",  class_weights)\n",
    "\n",
    "validation_datagen = ImageDataGenerator(rescale=1./255)\n",
    "\n",
    "x_validation = validation_datagen.flow_from_directory(\n",
    "    directory=r'./input/datatree/validation/',\n",
    "    batch_size=32,\n",
    "    target_size=(224,224),\n",
    "    class_mode=\"categorical\",\n",
    "    shuffle=True,\n",
    "    seed=42\n",
    ")\n",
    "validation_generator = x_validation\n",
    "class_weights_val = class_weight.compute_class_weight('balanced', np.unique(validation_generator.classes), validation_generator.classes)\n",
    "class_weights_val = dict(enumerate(class_weights_val))\n",
    "class_weights_val\n",
    "print(\"val_generator class_weights =\",  class_weights_val)\n",
    "\n",
    "test_datagen = ImageDataGenerator(rescale=1./255)\n",
    "\n",
    "x_test = test_datagen.flow_from_directory(\n",
    "    directory=r'./input/datatree/test/',\n",
    "    batch_size=32,\n",
    "    target_size=(224,224),\n",
    "    class_mode=\"categorical\",\n",
    "    shuffle=False,\n",
    "    seed=42\n",
    ")\n",
    "\n",
    "test_generator = x_test\n",
    "\n",
    "num_train_samples = train_generator.n\n",
    "num_val_samples = validation_generator.n\n",
    "train_batch_size = 256\n",
    "val_batch_size = 256\n",
    "\n",
    "\n",
    "train_steps = np.ceil(num_train_samples / train_batch_size)\n",
    "val_steps = np.ceil(num_val_samples / val_batch_size)\n",
    "print(train_steps)\n",
    "print(val_steps)"
   ]
  },
  {
   "cell_type": "code",
   "execution_count": 10,
   "metadata": {},
   "outputs": [
    {
     "name": "stdout",
     "output_type": "stream",
     "text": [
      "Name: scikit-learn\n",
      "Version: 1.3.0\n",
      "Summary: A set of python modules for machine learning and data mining\n",
      "Home-page: http://scikit-learn.org\n",
      "Author: \n",
      "Author-email: \n",
      "License: new BSD\n",
      "Location: C:\\Users\\admin\\anaconda3\\Lib\\site-packages\n",
      "Requires: joblib, numpy, scipy, threadpoolctl\n",
      "Required-by: daal4py, imbalanced-learn, scikit-learn-intelex\n",
      "Note: you may need to restart the kernel to use updated packages.\n"
     ]
    }
   ],
   "source": [
    "pip show scikit-learn"
   ]
  },
  {
   "cell_type": "code",
   "execution_count": 11,
   "metadata": {},
   "outputs": [
    {
     "name": "stdout",
     "output_type": "stream",
     "text": [
      "(224, 224, 3)\n"
     ]
    },
    {
     "data": {
      "text/plain": [
       "<matplotlib.image.AxesImage at 0x7efba0592250>"
      ]
     },
     "execution_count": 11,
     "metadata": {},
     "output_type": "execute_result"
    },
    {
     "data": {
      "image/png": "[encoded data removed]",
      "text/plain": [
       "<Figure size 432x288 with 1 Axes>"
      ]
     },
     "metadata": {
      "needs_background": "light"
     },
     "output_type": "display_data"
    }
   ],
   "source": [
    "p = x_train.next()\n",
    "print((p[0][0]).shape)\n",
    "(plt.imshow(p[0][0][:,:,:]) )\n"
   ]
  },
  {
   "cell_type": "code",
   "execution_count": 12,
   "metadata": {},
   "outputs": [],
   "source": [
    "lr =0.0001\n",
    "def create_inception_model2(n_classes=8,learning_rate=lr):\n",
    "    raw_model = keras.applications.inception_v3.InceptionV3(include_top=False, weights='imagenet', input_shape=(224,224,3), classes=n_classes)\n",
    "# first: train only the top layers (which were randomly initialized)\n",
    "# i.e. freeze all convolutional InceptionV3 layers\n",
    "    #for layer in raw_model.layers:\n",
    "    #    layer.trainable = False\n",
    "    full_model = Sequential()\n",
    "    full_model.add(raw_model)\n",
    "    full_model.add(GlobalAveragePooling2D())\n",
    "    full_model.add(Dropout(0.2))\n",
    "    full_model.add(Dense(512,activation='relu'))\n",
    "    full_model.add(Dropout(0.1))\n",
    "    full_model.add(Dense(8, activation = 'softmax'))\n",
    "    full_model.compile(Adam(lr=learning_rate), loss = 'categorical_crossentropy', metrics = ['accuracy'])\n",
    "    full_model.summary()\n",
    "    return full_model"
   ]
  },
  {
   "cell_type": "code",
   "execution_count": 13,
   "metadata": {},
   "outputs": [
    {
     "name": "stdout",
     "output_type": "stream",
     "text": [
      "Model: \"sequential_1\"\n",
      "_________________________________________________________________\n",
      "Layer (type)                 Output Shape              Param #   \n",
      "=================================================================\n",
      "inception_v3 (Model)         (None, 5, 5, 2048)        21802784  \n",
      "_________________________________________________________________\n",
      "global_average_pooling2d_1 ( (None, 2048)              0         \n",
      "_________________________________________________________________\n",
      "dropout_2 (Dropout)          (None, 2048)              0         \n",
      "_________________________________________________________________\n",
      "dense_2 (Dense)              (None, 512)               1049088   \n",
      "_________________________________________________________________\n",
      "dropout_3 (Dropout)          (None, 512)               0         \n",
      "_________________________________________________________________\n",
      "dense_3 (Dense)              (None, 8)                 4104      \n",
      "=================================================================\n",
      "Total params: 22,855,976\n",
      "Trainable params: 22,821,544\n",
      "Non-trainable params: 34,432\n",
      "_________________________________________________________________\n"
     ]
    }
   ],
   "source": [
    "model = create_inception_model2(n_classes=8,learning_rate=lr)"
   ]
  },
  {
   "cell_type": "code",
   "execution_count": 14,
   "metadata": {},
   "outputs": [
    {
     "name": "stdout",
     "output_type": "stream",
     "text": [
      "Epoch 1/50\n",
      "101/102 [============================>.] - ETA: 0s - loss: 1.1991 - accuracy: 0.5458\n",
      "Epoch 00001: val_accuracy improved from -inf to 0.66319, saving model to ../outputN/weights_part2.h5\n",
      "102/102 [==============================] - 38s 375ms/step - loss: 1.1942 - accuracy: 0.5472 - val_loss: 0.9057 - val_accuracy: 0.6632\n",
      "Epoch 2/50\n",
      "101/102 [============================>.] - ETA: 0s - loss: 0.6454 - accuracy: 0.7321\n",
      "Epoch 00002: val_accuracy improved from 0.66319 to 0.71875, saving model to ../outputN/weights_part2.h5\n",
      "102/102 [==============================] - 36s 354ms/step - loss: 0.6445 - accuracy: 0.7322 - val_loss: 0.8438 - val_accuracy: 0.7188\n",
      "Epoch 3/50\n",
      "101/102 [============================>.] - ETA: 0s - loss: 0.4853 - accuracy: 0.7958\n",
      "Epoch 00003: val_accuracy improved from 0.71875 to 0.75694, saving model to ../outputN/weights_part2.h5\n",
      "102/102 [==============================] - 36s 355ms/step - loss: 0.4835 - accuracy: 0.7960 - val_loss: 0.7162 - val_accuracy: 0.7569\n",
      "Epoch 4/50\n",
      "101/102 [============================>.] - ETA: 0s - loss: 0.4654 - accuracy: 0.8196\n",
      "Epoch 00004: val_accuracy improved from 0.75694 to 0.78819, saving model to ../outputN/weights_part2.h5\n",
      "102/102 [==============================] - 37s 359ms/step - loss: 0.4663 - accuracy: 0.8183 - val_loss: 0.6528 - val_accuracy: 0.7882\n",
      "Epoch 5/50\n",
      "101/102 [============================>.] - ETA: 0s - loss: 0.3544 - accuracy: 0.8422\n",
      "Epoch 00005: val_accuracy improved from 0.78819 to 0.79514, saving model to ../outputN/weights_part2.h5\n",
      "102/102 [==============================] - 36s 354ms/step - loss: 0.3531 - accuracy: 0.8428 - val_loss: 0.6253 - val_accuracy: 0.7951\n",
      "Epoch 6/50\n",
      "101/102 [============================>.] - ETA: 0s - loss: 0.3452 - accuracy: 0.8527\n",
      "Epoch 00006: val_accuracy did not improve from 0.79514\n",
      "102/102 [==============================] - 36s 355ms/step - loss: 0.3454 - accuracy: 0.8532 - val_loss: 0.5813 - val_accuracy: 0.7951\n",
      "Epoch 7/50\n",
      "101/102 [============================>.] - ETA: 0s - loss: 0.2899 - accuracy: 0.8676\n",
      "Epoch 00007: val_accuracy improved from 0.79514 to 0.80208, saving model to ../outputN/weights_part2.h5\n",
      "102/102 [==============================] - 36s 356ms/step - loss: 0.2892 - accuracy: 0.8676 - val_loss: 0.6258 - val_accuracy: 0.8021\n",
      "Epoch 8/50\n",
      "101/102 [============================>.] - ETA: 0s - loss: 0.2586 - accuracy: 0.8858\n",
      "Epoch 00008: val_accuracy improved from 0.80208 to 0.81250, saving model to ../outputN/weights_part2.h5\n",
      "102/102 [==============================] - 37s 361ms/step - loss: 0.2570 - accuracy: 0.8869 - val_loss: 0.6871 - val_accuracy: 0.8125\n",
      "Epoch 9/50\n",
      "101/102 [============================>.] - ETA: 0s - loss: 0.1729 - accuracy: 0.9267\n",
      "Epoch 00009: val_accuracy improved from 0.81250 to 0.82639, saving model to ../outputN/weights_part2.h5\n",
      "102/102 [==============================] - 36s 356ms/step - loss: 0.1719 - accuracy: 0.9271 - val_loss: 0.6108 - val_accuracy: 0.8264\n",
      "Epoch 10/50\n",
      "101/102 [============================>.] - ETA: 0s - loss: 0.1797 - accuracy: 0.9236\n",
      "Epoch 00010: val_accuracy did not improve from 0.82639\n",
      "102/102 [==============================] - 36s 353ms/step - loss: 0.1792 - accuracy: 0.9234 - val_loss: 0.6673 - val_accuracy: 0.8056\n",
      "Epoch 11/50\n",
      "101/102 [============================>.] - ETA: 0s - loss: 0.1657 - accuracy: 0.9329\n",
      "Epoch 00011: val_accuracy improved from 0.82639 to 0.82986, saving model to ../outputN/weights_part2.h5\n",
      "102/102 [==============================] - 36s 354ms/step - loss: 0.1647 - accuracy: 0.9335 - val_loss: 0.5713 - val_accuracy: 0.8299\n",
      "Epoch 12/50\n",
      "101/102 [============================>.] - ETA: 0s - loss: 0.1385 - accuracy: 0.9394\n",
      "Epoch 00012: val_accuracy did not improve from 0.82986\n",
      "102/102 [==============================] - 36s 351ms/step - loss: 0.1379 - accuracy: 0.9396 - val_loss: 0.7143 - val_accuracy: 0.7986\n",
      "Epoch 13/50\n",
      "101/102 [============================>.] - ETA: 0s - loss: 0.1787 - accuracy: 0.9267\n",
      "Epoch 00013: val_accuracy did not improve from 0.82986\n",
      "102/102 [==============================] - 36s 356ms/step - loss: 0.1775 - accuracy: 0.9271 - val_loss: 0.7399 - val_accuracy: 0.8090\n",
      "Epoch 14/50\n",
      "101/102 [============================>.] - ETA: 0s - loss: 0.1379 - accuracy: 0.9394\n",
      "Epoch 00014: val_accuracy did not improve from 0.82986\n",
      "102/102 [==============================] - 36s 352ms/step - loss: 0.1380 - accuracy: 0.9387 - val_loss: 0.7652 - val_accuracy: 0.8021\n",
      "Epoch 15/50\n",
      "101/102 [============================>.] - ETA: 0s - loss: 0.1445 - accuracy: 0.9402\n",
      "Epoch 00015: val_accuracy did not improve from 0.82986\n",
      "102/102 [==============================] - 36s 352ms/step - loss: 0.1442 - accuracy: 0.9405 - val_loss: 0.7365 - val_accuracy: 0.8229\n",
      "Epoch 16/50\n",
      "101/102 [============================>.] - ETA: 0s - loss: 0.1644 - accuracy: 0.9273\n",
      "Epoch 00016: val_accuracy improved from 0.82986 to 0.83333, saving model to ../outputN/weights_part2.h5\n",
      "102/102 [==============================] - 36s 356ms/step - loss: 0.1642 - accuracy: 0.9277 - val_loss: 0.7018 - val_accuracy: 0.8333\n",
      "Epoch 17/50\n",
      "101/102 [============================>.] - ETA: 0s - loss: 0.1583 - accuracy: 0.9440\n",
      "Epoch 00017: val_accuracy did not improve from 0.83333\n",
      "102/102 [==============================] - 36s 356ms/step - loss: 0.1576 - accuracy: 0.9442 - val_loss: 0.7073 - val_accuracy: 0.7743\n",
      "Epoch 18/50\n",
      "101/102 [============================>.] - ETA: 0s - loss: 0.1224 - accuracy: 0.9517\n",
      "Epoch 00018: val_accuracy did not improve from 0.83333\n",
      "102/102 [==============================] - 37s 359ms/step - loss: 0.1226 - accuracy: 0.9516 - val_loss: 0.7024 - val_accuracy: 0.7917\n",
      "Epoch 19/50\n",
      "101/102 [============================>.] - ETA: 0s - loss: 0.1104 - accuracy: 0.9564\n",
      "Epoch 00019: val_accuracy did not improve from 0.83333\n",
      "102/102 [==============================] - 36s 352ms/step - loss: 0.1100 - accuracy: 0.9565 - val_loss: 0.6572 - val_accuracy: 0.8229\n",
      "Epoch 20/50\n",
      "101/102 [============================>.] - ETA: 0s - loss: 0.1428 - accuracy: 0.9443\n",
      "Epoch 00020: val_accuracy did not improve from 0.83333\n",
      "102/102 [==============================] - 36s 354ms/step - loss: 0.1430 - accuracy: 0.9439 - val_loss: 1.5413 - val_accuracy: 0.7188\n",
      "Epoch 21/50\n",
      "101/102 [============================>.] - ETA: 0s - loss: 0.1655 - accuracy: 0.9356\n",
      "Epoch 00021: val_accuracy did not improve from 0.83333\n",
      "102/102 [==============================] - 36s 353ms/step - loss: 0.1645 - accuracy: 0.9359 - val_loss: 0.7022 - val_accuracy: 0.8299\n",
      "Epoch 22/50\n",
      "101/102 [============================>.] - ETA: 0s - loss: 0.0992 - accuracy: 0.9579\n",
      "Epoch 00022: val_accuracy did not improve from 0.83333\n",
      "102/102 [==============================] - 36s 351ms/step - loss: 0.0990 - accuracy: 0.9580 - val_loss: 0.6307 - val_accuracy: 0.8160\n",
      "Epoch 23/50\n",
      "101/102 [============================>.] - ETA: 0s - loss: 0.0991 - accuracy: 0.9570\n",
      "Epoch 00023: val_accuracy did not improve from 0.83333\n",
      "102/102 [==============================] - 36s 355ms/step - loss: 0.0983 - accuracy: 0.9574 - val_loss: 0.6897 - val_accuracy: 0.8229\n",
      "Epoch 24/50\n",
      "101/102 [============================>.] - ETA: 0s - loss: 0.0969 - accuracy: 0.9564\n",
      "Epoch 00024: val_accuracy did not improve from 0.83333\n",
      "102/102 [==============================] - 36s 352ms/step - loss: 0.0972 - accuracy: 0.9562 - val_loss: 0.7166 - val_accuracy: 0.7986\n",
      "Epoch 25/50\n",
      "101/102 [============================>.] - ETA: 0s - loss: 0.0620 - accuracy: 0.9771\n",
      "Epoch 00025: val_accuracy did not improve from 0.83333\n",
      "102/102 [==============================] - 36s 352ms/step - loss: 0.0627 - accuracy: 0.9770 - val_loss: 0.6831 - val_accuracy: 0.8264\n",
      "Epoch 26/50\n",
      "101/102 [============================>.] - ETA: 0s - loss: 0.0591 - accuracy: 0.9780\n",
      "Epoch 00026: val_accuracy did not improve from 0.83333\n",
      "102/102 [==============================] - 36s 355ms/step - loss: 0.0587 - accuracy: 0.9782 - val_loss: 0.8754 - val_accuracy: 0.8264\n",
      "Epoch 27/50\n",
      "101/102 [============================>.] - ETA: 0s - loss: 0.0809 - accuracy: 0.9678\n",
      "Epoch 00027: val_accuracy did not improve from 0.83333\n",
      "102/102 [==============================] - 36s 353ms/step - loss: 0.0802 - accuracy: 0.9681 - val_loss: 0.7895 - val_accuracy: 0.8125\n",
      "Epoch 28/50\n",
      "101/102 [============================>.] - ETA: 0s - loss: 0.0648 - accuracy: 0.9729\n",
      "Epoch 00028: val_accuracy did not improve from 0.83333\n",
      "102/102 [==============================] - 36s 354ms/step - loss: 0.0645 - accuracy: 0.9732 - val_loss: 0.8420 - val_accuracy: 0.8090\n",
      "Epoch 29/50\n",
      "101/102 [============================>.] - ETA: 0s - loss: 0.0897 - accuracy: 0.9650\n",
      "Epoch 00029: val_accuracy did not improve from 0.83333\n",
      "102/102 [==============================] - 36s 355ms/step - loss: 0.0893 - accuracy: 0.9651 - val_loss: 0.8816 - val_accuracy: 0.8090\n",
      "Epoch 30/50\n",
      "101/102 [============================>.] - ETA: 0s - loss: 0.1283 - accuracy: 0.9576\n",
      "Epoch 00030: val_accuracy did not improve from 0.83333\n",
      "102/102 [==============================] - 36s 353ms/step - loss: 0.1280 - accuracy: 0.9574 - val_loss: 1.9895 - val_accuracy: 0.6944\n",
      "Epoch 31/50\n",
      "101/102 [============================>.] - ETA: 0s - loss: 0.1324 - accuracy: 0.9499\n",
      "Epoch 00031: val_accuracy did not improve from 0.83333\n",
      "102/102 [==============================] - 36s 353ms/step - loss: 0.1313 - accuracy: 0.9504 - val_loss: 0.7132 - val_accuracy: 0.8264\n",
      "Epoch 32/50\n",
      "101/102 [============================>.] - ETA: 0s - loss: 0.0800 - accuracy: 0.9660\n",
      "Epoch 00032: val_accuracy did not improve from 0.83333\n",
      "102/102 [==============================] - 36s 354ms/step - loss: 0.0814 - accuracy: 0.9657 - val_loss: 0.9317 - val_accuracy: 0.7812\n",
      "Epoch 33/50\n",
      "101/102 [============================>.] - ETA: 0s - loss: 0.0739 - accuracy: 0.9707\n",
      "Epoch 00033: val_accuracy did not improve from 0.83333\n",
      "102/102 [==============================] - 36s 353ms/step - loss: 0.0741 - accuracy: 0.9701 - val_loss: 0.6312 - val_accuracy: 0.8299\n",
      "Epoch 34/50\n",
      "101/102 [============================>.] - ETA: 0s - loss: 0.0560 - accuracy: 0.9768\n",
      "Epoch 00034: val_accuracy did not improve from 0.83333\n",
      "102/102 [==============================] - 36s 352ms/step - loss: 0.0560 - accuracy: 0.9767 - val_loss: 0.7335 - val_accuracy: 0.8229\n",
      "Epoch 35/50\n",
      "101/102 [============================>.] - ETA: 0s - loss: 0.0591 - accuracy: 0.9762\n",
      "Epoch 00035: val_accuracy did not improve from 0.83333\n",
      "102/102 [==============================] - 36s 354ms/step - loss: 0.0586 - accuracy: 0.9764 - val_loss: 0.8682 - val_accuracy: 0.8264\n",
      "Epoch 36/50\n",
      "101/102 [============================>.] - ETA: 0s - loss: 0.0557 - accuracy: 0.9774\n",
      "Epoch 00036: val_accuracy did not improve from 0.83333\n",
      "102/102 [==============================] - 36s 352ms/step - loss: 0.0552 - accuracy: 0.9776 - val_loss: 0.8356 - val_accuracy: 0.8229\n",
      "Epoch 37/50\n",
      "101/102 [============================>.] - ETA: 0s - loss: 0.0755 - accuracy: 0.9672\n",
      "Epoch 00037: val_accuracy did not improve from 0.83333\n",
      "102/102 [==============================] - 36s 354ms/step - loss: 0.0758 - accuracy: 0.9672 - val_loss: 0.8048 - val_accuracy: 0.8299\n",
      "Epoch 38/50\n",
      "101/102 [============================>.] - ETA: 0s - loss: 0.0605 - accuracy: 0.9762\n",
      "Epoch 00038: val_accuracy did not improve from 0.83333\n",
      "102/102 [==============================] - 36s 352ms/step - loss: 0.0600 - accuracy: 0.9764 - val_loss: 0.6574 - val_accuracy: 0.8333\n",
      "Epoch 39/50\n",
      "101/102 [============================>.] - ETA: 0s - loss: 0.0646 - accuracy: 0.9752\n",
      "Epoch 00039: val_accuracy did not improve from 0.83333\n",
      "102/102 [==============================] - 36s 355ms/step - loss: 0.0639 - accuracy: 0.9755 - val_loss: 0.7521 - val_accuracy: 0.8264\n",
      "Epoch 40/50\n",
      "101/102 [============================>.] - ETA: 0s - loss: 0.0465 - accuracy: 0.9801\n",
      "Epoch 00040: val_accuracy improved from 0.83333 to 0.84722, saving model to ../outputN/weights_part2.h5\n",
      "102/102 [==============================] - 36s 356ms/step - loss: 0.0462 - accuracy: 0.9803 - val_loss: 0.7427 - val_accuracy: 0.8472\n",
      "Epoch 41/50\n",
      "101/102 [============================>.] - ETA: 0s - loss: 0.0500 - accuracy: 0.9793\n",
      "Epoch 00041: val_accuracy improved from 0.84722 to 0.85764, saving model to ../outputN/weights_part2.h5\n",
      "102/102 [==============================] - 36s 355ms/step - loss: 0.0496 - accuracy: 0.9795 - val_loss: 0.6603 - val_accuracy: 0.8576\n",
      "Epoch 42/50\n",
      "101/102 [============================>.] - ETA: 0s - loss: 0.0463 - accuracy: 0.9817\n",
      "Epoch 00042: val_accuracy did not improve from 0.85764\n",
      "102/102 [==============================] - 36s 353ms/step - loss: 0.0460 - accuracy: 0.9819 - val_loss: 0.8536 - val_accuracy: 0.8333\n",
      "Epoch 43/50\n",
      "101/102 [============================>.] - ETA: 0s - loss: 0.0525 - accuracy: 0.9808\n",
      "Epoch 00043: val_accuracy did not improve from 0.85764\n",
      "102/102 [==============================] - 36s 353ms/step - loss: 0.0529 - accuracy: 0.9804 - val_loss: 0.8691 - val_accuracy: 0.7847\n",
      "Epoch 44/50\n",
      "101/102 [============================>.] - ETA: 0s - loss: 0.0583 - accuracy: 0.9756\n",
      "Epoch 00044: val_accuracy did not improve from 0.85764\n",
      "102/102 [==============================] - 36s 351ms/step - loss: 0.0586 - accuracy: 0.9755 - val_loss: 0.9272 - val_accuracy: 0.8056\n",
      "Epoch 45/50\n",
      "101/102 [============================>.] - ETA: 0s - loss: 0.0558 - accuracy: 0.9774\n",
      "Epoch 00045: val_accuracy did not improve from 0.85764\n",
      "102/102 [==============================] - 36s 353ms/step - loss: 0.0555 - accuracy: 0.9776 - val_loss: 0.9768 - val_accuracy: 0.7708\n",
      "Epoch 46/50\n",
      "101/102 [============================>.] - ETA: 0s - loss: 0.0621 - accuracy: 0.9731\n",
      "Epoch 00046: val_accuracy did not improve from 0.85764\n",
      "102/102 [==============================] - 36s 352ms/step - loss: 0.0643 - accuracy: 0.9724 - val_loss: 0.8837 - val_accuracy: 0.8403\n",
      "Epoch 47/50\n",
      "101/102 [============================>.] - ETA: 0s - loss: 0.0513 - accuracy: 0.9780\n",
      "Epoch 00047: val_accuracy did not improve from 0.85764\n",
      "102/102 [==============================] - 36s 352ms/step - loss: 0.0510 - accuracy: 0.9782 - val_loss: 0.8163 - val_accuracy: 0.8472\n",
      "Epoch 48/50\n",
      "101/102 [============================>.] - ETA: 0s - loss: 0.0601 - accuracy: 0.9759\n",
      "Epoch 00048: val_accuracy did not improve from 0.85764\n",
      "102/102 [==============================] - 36s 353ms/step - loss: 0.0599 - accuracy: 0.9761 - val_loss: 0.6947 - val_accuracy: 0.8438\n",
      "Epoch 49/50\n",
      "101/102 [============================>.] - ETA: 0s - loss: 0.0465 - accuracy: 0.9827\n",
      "Epoch 00049: val_accuracy did not improve from 0.85764\n",
      "102/102 [==============================] - 36s 352ms/step - loss: 0.0472 - accuracy: 0.9825 - val_loss: 0.7447 - val_accuracy: 0.8438\n",
      "Epoch 50/50\n",
      "101/102 [============================>.] - ETA: 0s - loss: 0.0954 - accuracy: 0.9752\n",
      "Epoch 00050: val_accuracy did not improve from 0.85764\n",
      "102/102 [==============================] - 36s 352ms/step - loss: 0.0956 - accuracy: 0.9749 - val_loss: 1.6030 - val_accuracy: 0.7118\n"
     ]
    }
   ],
   "source": [
    "filepath = \"../outputN/weights_part2.h5\"\n",
    "checkpoint = ModelCheckpoint(filepath, monitor='val_accuracy', verbose=1, \n",
    "                             save_best_only=True, mode='max',save_weights_only=True)\n",
    "\n",
    "reduce_lr = ReduceLROnPlateau(monitor='val_accuracy', factor=0.1, patience=3, \n",
    "                                   verbose=1, mode='max', min_lr=0.0001)\n",
    "                              \n",
    "callbacks_list = [checkpoint, reduce_lr]\n",
    "\n",
    "history = model.fit_generator(train_generator, steps_per_epoch=train_steps, \n",
    "                            validation_data=validation_generator,\n",
    "                            validation_steps=val_steps,\n",
    "                            epochs=50, verbose=1,\n",
    "                            class_weight = class_weights,\n",
    "                            shuffle=True,  \n",
    "                            callbacks=callbacks_list)"
   ]
  },
  {
   "cell_type": "code",
   "execution_count": 15,
   "metadata": {},
   "outputs": [
    {
     "data": {
      "image/png": "[encoded data removed]",
      "text/plain": [
       "<Figure size 432x288 with 1 Axes>"
      ]
     },
     "metadata": {
      "needs_background": "light"
     },
     "output_type": "display_data"
    },
    {
     "data": {
      "image/png": "[encoded data removed]",
      "text/plain": [
       "<Figure size 432x288 with 1 Axes>"
      ]
     },
     "metadata": {
      "needs_background": "light"
     },
     "output_type": "display_data"
    }
   ],
   "source": [
    "# summarize history for accuracy\n",
    "plt.plot(history.history['accuracy'])\n",
    "plt.plot(history.history['val_accuracy'])\n",
    "plt.title('model accuracy')\n",
    "plt.ylabel('accuracy')\n",
    "plt.xlabel('epoch')\n",
    "plt.legend(['train', 'validation'], loc='upper left')\n",
    "plt.show()\n",
    "# summarize history for loss\n",
    "plt.plot(history.history['loss'])\n",
    "plt.plot(history.history['val_loss'])\n",
    "plt.title('model loss')\n",
    "plt.ylabel('loss')\n",
    "plt.xlabel('epoch')\n",
    "plt.legend(['train', 'validation'], loc='upper left')\n",
    "plt.show()"
   ]
  },
  {
   "cell_type": "code",
   "execution_count": 16,
   "metadata": {},
   "outputs": [
    {
     "name": "stdout",
     "output_type": "stream",
     "text": [
      "WARNING:tensorflow:From /home/hamza/anaconda3/envs/tf/lib/python3.7/site-packages/tensorflow_core/python/ops/resource_variable_ops.py:1781: calling BaseResourceVariable.__init__ (from tensorflow.python.ops.resource_variable_ops) with constraint is deprecated and will be removed in a future version.\n",
      "Instructions for updating:\n",
      "If using Keras pass *_constraint arguments to layers.\n",
      "INFO:tensorflow:Assets written to: ../outputN/SkinCancerI.pb/assets\n"
     ]
    }
   ],
   "source": [
    "keras_model1 = \"../outputN/SkinCancerI.pb\"\n",
    "keras.models.save_model(model,keras_model1)"
   ]
  },
  {
   "cell_type": "code",
   "execution_count": 19,
   "metadata": {},
   "outputs": [
    {
     "data": {
      "text/plain": [
       "91340100"
      ]
     },
     "execution_count": 19,
     "metadata": {},
     "output_type": "execute_result"
    }
   ],
   "source": [
    "keras.backend.clear_session()\n",
    "converter = tf.lite.TFLiteConverter.from_saved_model(keras_model1)\n",
    "tflite_model1 = converter.convert()\n",
    "open(\"../outputN/model.tflite\", \"wb\").write(tflite_model1)"
   ]
  },
  {
   "cell_type": "code",
   "execution_count": null,
   "metadata": {},
   "outputs": [],
   "source": []
  },
  {
   "cell_type": "code",
   "execution_count": null,
   "metadata": {},
   "outputs": [],
   "source": []
  },
  {
   "cell_type": "code",
   "execution_count": null,
   "metadata": {},
   "outputs": [],
   "source": []
  },
  {
   "cell_type": "code",
   "execution_count": null,
   "metadata": {},
   "outputs": [],
   "source": []
  },
  {
   "cell_type": "code",
   "execution_count": null,
   "metadata": {},
   "outputs": [],
   "source": []
  }
 ],
 "metadata": {
  "kernelspec": {
   "display_name": "Python 3 (ipykernel)",
   "language": "python",
   "name": "python3"
  },
  "language_info": {
   "codemirror_mode": {
    "name": "ipython",
    "version": 3
   },
   "file_extension": ".py",
   "mimetype": "text/x-python",
   "name": "python",
   "nbconvert_exporter": "python",
   "pygments_lexer": "ipython3",
   "version": "3.11.5"
  }
 },
 "nbformat": 4,
 "nbformat_minor": 4
}
